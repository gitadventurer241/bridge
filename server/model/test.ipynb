{
 "cells": [
  {
   "cell_type": "code",
   "execution_count": 4,
   "metadata": {},
   "outputs": [
    {
     "name": "stdout",
     "output_type": "stream",
     "text": [
      "[{'field': 'UX/UI', 'id': '324a7e4c-f890-496d-98bc-93115fbc408e', 'name': 'Figma'}, {'field': 'Hard Skill', 'id': 'KS126XS6CQCFGC3NG79X', 'name': '.NET Assemblies'}, {'field': 'Hard Skill', 'id': 'ES50D03AC9CFC1A0BC93', 'name': '.NET Development'}, {'field': 'Hard Skill', 'id': 'KS1200B62W5ZF38RJ7TD', 'name': '.NET Framework'}, {'field': 'Hard Skill', 'id': 'KS126XW78QJCF4TRV2X7', 'name': '.NET Framework 1'}, {'field': 'Hard Skill', 'id': 'KS126XY68BNKXSBSLPYS', 'name': '.NET Framework 3'}, {'field': 'Hard Skill', 'id': 'KS126XR63RKYVCKYDNBN', 'name': '.NET Framework 4'}, {'field': 'Hard Skill', 'id': 'ES1A2175859F80D25163', 'name': '.NET MAUI (Multi-Platform App UI)'}, {'field': 'Hard Skill', 'id': 'KS126Y166NXP5X1SLV6V', 'name': '.NET Reflector'}, {'field': 'Hard Skill', 'id': 'KS126Y16DLZ0N5THPLDM', 'name': '.NET Remoting'}]\n"
     ]
    }
   ],
   "source": [
    "import string\n",
    "import requests\n",
    "from sklearn.feature_extraction.text import TfidfVectorizer\n",
    "import pickle\n",
    "\n",
    "skills = requests.get('http://localhost:5001/api/get_all_skills')\n",
    "skills_json = skills.json()['skills']\n",
    "print(skills_json[0:10])"
   ]
  },
  {
   "cell_type": "code",
   "execution_count": 3,
   "metadata": {},
   "outputs": [
    {
     "name": "stdout",
     "output_type": "stream",
     "text": [
      "[[0. 0. 0. 0. 0. 0. 0. 0. 0. 0. 0. 0. 0. 0. 0. 0. 0. 0. 0. 0. 0. 0. 0. 0.\n",
      "  0. 0. 0. 0. 0. 0. 0. 0. 0. 0. 0. 0. 0. 0. 0. 0. 0. 0. 0. 0. 0. 0. 0. 0.\n",
      "  0. 0. 0. 0. 0. 0. 0. 0. 0. 0. 0. 0. 0. 0. 0. 0. 0. 0. 0. 0. 0. 0. 0. 0.\n",
      "  0. 0. 0. 0. 0. 0. 0. 0. 0. 0. 0. 0. 0. 0. 0. 0. 0. 0. 0. 0. 0. 0. 0. 0.\n",
      "  0. 0. 0. 0. 1. 0. 0. 0. 0. 0. 0. 0. 0. 0. 0. 0. 0. 0. 0. 0. 0. 0. 0. 0.\n",
      "  0. 0. 0. 0. 0. 0. 0. 0. 0. 0. 0. 0. 0. 0. 0. 0. 0. 0. 0. 0. 0. 0. 0. 0.\n",
      "  0. 0. 0. 0. 0. 0. 0. 0. 0. 0. 0. 0. 0. 0. 0. 0. 0. 0. 0. 0. 0. 0. 0. 0.\n",
      "  0. 0. 0. 0. 0. 0. 0. 0. 0. 0. 0. 0. 0.]]\n"
     ]
    }
   ],
   "source": [
    "import dill\n",
    "with open(\"./vectorizer.pkl\", \"rb\") as file:\n",
    "    vectorizer = dill.load(file)\n",
    "\n",
    "    print(vectorizer.transform(['Jira']).toarray())"
   ]
  }
 ],
 "metadata": {
  "kernelspec": {
   "display_name": "deploy-impact-23-shift-4-hsh4Bgsi",
   "language": "python",
   "name": "python3"
  },
  "language_info": {
   "codemirror_mode": {
    "name": "ipython",
    "version": 3
   },
   "file_extension": ".py",
   "mimetype": "text/x-python",
   "name": "python",
   "nbconvert_exporter": "python",
   "pygments_lexer": "ipython3",
   "version": "3.11.5"
  },
  "orig_nbformat": 4
 },
 "nbformat": 4,
 "nbformat_minor": 2
}
